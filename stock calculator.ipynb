{
 "cells": [
  {
   "cell_type": "code",
   "execution_count": 1,
   "metadata": {},
   "outputs": [],
   "source": [
    "import pandas as pd \n",
    "import numpy as np \n",
    "import yfinance as yf"
   ]
  },
  {
   "cell_type": "code",
   "execution_count": null,
   "metadata": {},
   "outputs": [
    {
     "name": "stdout",
     "output_type": "stream",
     "text": [
      "Welcome to the stock analyzer\n",
      "Type quit to exit the program\n",
      "Please enter a stock ticker the deciered period\n",
      "Enter a stock ticker: aapl\n",
      "Enter a valid period(1d,5d,1mo,3mo,6mo,1y,2y,5y,10y,ytd): 6mo\n",
      "downloading data..\n",
      "[*********************100%***********************]  1 of 1 downloaded\n",
      "formating the data..\n",
      "creating an object\n",
      "object created\n",
      "type back to select a new stock\n",
      "What analyzis do you want to do?\n",
      "type expected return, standard deviation or sharpe ratio: expected return\n",
      "The yearly expected return for aapl is 146.71773654430584 \n",
      "What analyzis do you want to do?\n"
     ]
    }
   ],
   "source": [
    "class Stock:\n",
    "    security = \"stock\"\n",
    "\n",
    "    def __init__(self,ticker,df):\n",
    "        self.ticker = ticker\n",
    "        self.df = df\n",
    "        \n",
    "    def expected_return(self):\n",
    "        self.df['returns'] = self.df.pct_change(1)\n",
    "        daily_return = self.df['returns'].mean()\n",
    "        annual_return = ((daily_return+1)**252-1)*100\n",
    "        return annual_return\n",
    "    \n",
    "    def standard_deviation(self):\n",
    "        self.df['returns'] = self.df.pct_change(1)\n",
    "        daily_std = np.std(self.df['returns'])\n",
    "        annual_std = np.sqrt(252)*daily_std*100\n",
    "        return annual_std\n",
    "    \n",
    "    def sharpe_ratio(self):\n",
    "        sharpe = self.expected_return()/self.standard_deviation()\n",
    "        return sharpe\n",
    "\n",
    "############################### Stock analysis project #######################################\n",
    "\n",
    "# Takes in a ticker, period and interval \n",
    "# Can return annual expected return, volatility and sharpe_ratio \n",
    "# User can quit by entering \"quit\"\n",
    "\n",
    "######### Initalizing ###########\n",
    "answer = \"base\"\n",
    "while answer != \"quit\":\n",
    "    answer2 = \"base\"\n",
    "    print(\"Welcome to the stock analyzer\")\n",
    "    print(\"Type quit to exit the program\")\n",
    "    print(\"Please enter a stock ticker the deciered period\")\n",
    "    user_ticker = input(\"Enter a stock ticker: \").lower()\n",
    "    if user_ticker == \"quit\":\n",
    "        break\n",
    "    user_period = input(\"Enter a valid period(1d,5d,1mo,3mo,6mo,1y,2y,5y,10y,ytd): \").lower()\n",
    "    print(\"downloading data..\")\n",
    "    stock = yf.download(tickers=user_ticker,period=user_period,interval=\"1d\")\n",
    "    print(\"formating the data..\")\n",
    "    stock.drop(labels=[\"Open\",\"High\",\"Low\",\"Close\",\"Volume\"],axis=1,inplace=True)\n",
    "    print(\"creating an object\")\n",
    "    stock_object = Stock(user_ticker,stock)\n",
    "    print(\"object created\")\n",
    "    print(\"type back to select a new stock\")\n",
    "    \n",
    "    while answer2 != \"back\":\n",
    "        print(\"What analyzis do you want to do?\")\n",
    "        answer2 = input(\"type expected return, standard deviation or sharpe ratio: \").lower()\n",
    "        \n",
    "        if answer2 == \"expected return\":\n",
    "            print(\"The yearly expected return for {} is {} \".format(user_ticker,stock_object.expected_return()))\n",
    "        elif answer2 == \"standard deviation\":\n",
    "            print(\"The yearly volatility for {} is {} \".format(user_ticker,stock_object.standard_deviation()))\n",
    "        elif answer2 == \"sharpe ratio\":\n",
    "            print(\"The yearly sharpe ratio for {} is {} \".format(user_ticker,stock_object.sharpe_ratio()))\n",
    "        else:\n",
    "            print(\"The input you typed was incorrect please try again or type quit to exit, or back\")\n"
   ]
  },
  {
   "cell_type": "code",
   "execution_count": null,
   "metadata": {},
   "outputs": [],
   "source": []
  },
  {
   "cell_type": "code",
   "execution_count": null,
   "metadata": {},
   "outputs": [],
   "source": []
  },
  {
   "cell_type": "code",
   "execution_count": null,
   "metadata": {},
   "outputs": [],
   "source": []
  },
  {
   "cell_type": "code",
   "execution_count": null,
   "metadata": {},
   "outputs": [],
   "source": []
  },
  {
   "cell_type": "code",
   "execution_count": null,
   "metadata": {},
   "outputs": [],
   "source": []
  },
  {
   "cell_type": "code",
   "execution_count": null,
   "metadata": {},
   "outputs": [],
   "source": []
  },
  {
   "cell_type": "code",
   "execution_count": null,
   "metadata": {},
   "outputs": [],
   "source": []
  },
  {
   "cell_type": "code",
   "execution_count": null,
   "metadata": {},
   "outputs": [],
   "source": []
  },
  {
   "cell_type": "code",
   "execution_count": null,
   "metadata": {},
   "outputs": [],
   "source": []
  },
  {
   "cell_type": "code",
   "execution_count": null,
   "metadata": {},
   "outputs": [],
   "source": []
  }
 ],
 "metadata": {
  "kernelspec": {
   "display_name": "Python 3",
   "language": "python",
   "name": "python3"
  },
  "language_info": {
   "codemirror_mode": {
    "name": "ipython",
    "version": 3
   },
   "file_extension": ".py",
   "mimetype": "text/x-python",
   "name": "python",
   "nbconvert_exporter": "python",
   "pygments_lexer": "ipython3",
   "version": "3.7.3"
  }
 },
 "nbformat": 4,
 "nbformat_minor": 2
}
